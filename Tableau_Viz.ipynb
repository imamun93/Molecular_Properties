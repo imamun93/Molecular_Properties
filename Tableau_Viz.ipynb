{
 "cells": [
  {
   "cell_type": "markdown",
   "metadata": {},
   "source": [
    "In here I will attempt to post screenshots of visuals I create from Tableau.\n",
    "All data are from the subsample csv as the full complete csv is rather massive for Tableau to handle"
   ]
  },
  {
   "cell_type": "markdown",
   "metadata": {},
   "source": [
    "<img src=\"files/MoleculeTypeDistribution.png\">"
   ]
  },
  {
   "cell_type": "markdown",
   "metadata": {},
   "source": [
    "#### This image above shows the relationshup between the main types Molecule and their interactions to different atoms. It is a simple and great visualization to see how often a specific type of molecule shows up\n",
    "\n",
    "\n",
    "I tried to upload the interactive images to my tableau profile but it is not working. So this static image would have to do for now"
   ]
  },
  {
   "cell_type": "markdown",
   "metadata": {},
   "source": [
    "<img src=\"files/ScalarVsMoleculeType.png\">"
   ]
  },
  {
   "cell_type": "markdown",
   "metadata": {},
   "source": [
    "#### This shows how each molecule type variables are related to my main target, the scalar coupling constant. All negative numbers were ignored (44 cases out of 44,000 or so). Here, we see that 1JHC has the biggest relation to scalar constant while on the previous picture we see that it was 3JHC that had the most interaction with atom interactions.\n",
    "\n",
    "This can potentially give insight on how the molecules interact."
   ]
  },
  {
   "cell_type": "code",
   "execution_count": null,
   "metadata": {},
   "outputs": [],
   "source": []
  }
 ],
 "metadata": {
  "kernelspec": {
   "display_name": "Python 3",
   "language": "python",
   "name": "python3"
  },
  "language_info": {
   "codemirror_mode": {
    "name": "ipython",
    "version": 3
   },
   "file_extension": ".py",
   "mimetype": "text/x-python",
   "name": "python",
   "nbconvert_exporter": "python",
   "pygments_lexer": "ipython3",
   "version": "3.7.4"
  }
 },
 "nbformat": 4,
 "nbformat_minor": 2
}
